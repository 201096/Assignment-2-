{
 "cells": [
  {
   "cell_type": "code",
   "execution_count": 10,
   "id": "00e62681-45b7-472d-a8d8-e49080c0d061",
   "metadata": {
    "tags": []
   },
   "outputs": [],
   "source": [
    "import nltk\n",
    "from nltk.tokenize import word_tokenize\n"
   ]
  },
  {
   "cell_type": "code",
   "execution_count": 11,
   "id": "0ec3f670-f9fb-4d32-82bc-07939dcfd807",
   "metadata": {
    "tags": []
   },
   "outputs": [
    {
     "name": "stderr",
     "output_type": "stream",
     "text": [
      "[nltk_data] Downloading package punkt to\n",
      "[nltk_data]     /Users/daniyar_issenov/nltk_data...\n",
      "[nltk_data]   Package punkt is already up-to-date!\n"
     ]
    },
    {
     "data": {
      "text/plain": [
       "True"
      ]
     },
     "execution_count": 11,
     "metadata": {},
     "output_type": "execute_result"
    }
   ],
   "source": [
    "nltk.download('punkt')"
   ]
  },
  {
   "cell_type": "code",
   "execution_count": 21,
   "id": "85678f0e-3092-483c-9ab8-5dd31f6cff6f",
   "metadata": {
    "tags": []
   },
   "outputs": [
    {
     "name": "stdout",
     "output_type": "stream",
     "text": [
      "Новые слова и оценки записаны в файл: keywords.txt\n"
     ]
    }
   ],
   "source": [
    "new_words = {\n",
    "    'радостный': 1,\n",
    "    'нормальная': 0.2,\n",
    "    'прекрасна': 2,\n",
    "    'ужасен': -2,\n",
    "    'неприятный': -1,\n",
    "    'разочарование': -1\n",
    "}\n",
    "\n",
    "file_path = 'keywords.txt'  \n",
    "\n",
    "with open(file_path, 'w', encoding='utf-8') as file:\n",
    "    for word, sentiment in new_words.items():\n",
    "        file.write(f'{word}\\t{sentiment}\\n')\n",
    "\n",
    "print(f'done for: {file_path}')"
   ]
  },
  {
   "cell_type": "code",
   "execution_count": 22,
   "id": "67a2686d-a1fb-4106-b77d-04f86543bc07",
   "metadata": {
    "tags": []
   },
   "outputs": [],
   "source": [
    "\n",
    "def load_sentiment_words(filename):\n",
    "    sentiment_words = {}\n",
    "    with open(filename, 'r', encoding='utf-8') as file:\n",
    "        lines = file.readlines()\n",
    "        for line in lines:\n",
    "            word, sentiment = line.strip().split('\\t')\n",
    "            sentiment_words[word] = float(sentiment)\n",
    "    return sentiment_words\n",
    "\n",
    "sentiwords = load_sentiment_words('keywords.txt') "
   ]
  },
  {
   "cell_type": "code",
   "execution_count": 23,
   "id": "2cb17299-3fe0-4589-b92d-ebd957f4636a",
   "metadata": {
    "tags": []
   },
   "outputs": [
    {
     "name": "stdout",
     "output_type": "stream",
     "text": [
      "Предложение: \"Этот фильм был просто ужасен!\" - Тональность: негативный\n",
      "Предложение: \"Сегодня погода нормальная.\" - Тональность: нейтральный\n",
      "Предложение: \"Я влюблен в эту книгу, она прекрасна.\" - Тональность: позитивный\n"
     ]
    }
   ],
   "source": [
    "\n",
    "# Загрузка словаря SentiWords\n",
    "\n",
    "# Функция для анализа тональности предложения\n",
    "def analyze_sentiment(sentence, sentiment_words, threshold = 0.0):\n",
    "    words = word_tokenize(sentence)\n",
    "    sentiment_score = sum(sentiment_words.get(word.lower(), 0) for word in words)\n",
    "    if sentiment_score > threshold:\n",
    "        return 'позитивный'\n",
    "    elif sentiment_score < -threshold:\n",
    "        return 'негативный'\n",
    "    else:\n",
    "        return 'нейтральный'\n",
    "\n",
    "# Примеры предложений для анализа\n",
    "sentences = [\n",
    "    \"Этот фильм был просто ужасен!\",\n",
    "    \"Сегодня погода нормальная.\",\n",
    "    \"Я влюблен в эту книгу, она прекрасна.\"\n",
    "]\n",
    "\n",
    "threshold = 0.2\n",
    "\n",
    "# Анализ тональности и вывод результата\n",
    "for sentence in sentences:\n",
    "    sentiment = analyze_sentiment(sentence, sentiwords, threshold)\n",
    "    print(f'Предложение: \"{sentence}\" - Тональность: {sentiment}')"
   ]
  },
  {
   "cell_type": "code",
   "execution_count": null,
   "id": "a19b6544-2fa2-496d-a842-f223a6bbf923",
   "metadata": {},
   "outputs": [],
   "source": []
  }
 ],
 "metadata": {
  "kernelspec": {
   "display_name": "Python 3 (ipykernel)",
   "language": "python",
   "name": "python3"
  },
  "language_info": {
   "codemirror_mode": {
    "name": "ipython",
    "version": 3
   },
   "file_extension": ".py",
   "mimetype": "text/x-python",
   "name": "python",
   "nbconvert_exporter": "python",
   "pygments_lexer": "ipython3",
   "version": "3.11.4"
  }
 },
 "nbformat": 4,
 "nbformat_minor": 5
}
