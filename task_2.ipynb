{
 "cells": [
  {
   "cell_type": "raw",
   "id": "52dd6eaa-20b7-4f9c-989a-7779d9203b05",
   "metadata": {},
   "source": [
    "Задание 3 (25 б) \n",
    "Разработка и тестирование определения тональности текста.\n",
    "Ввод: Предложение для оценки эмоциональной окраски.\n",
    "Вывод: Тональность заданного предложения по шкале негативный, нейтральный, позитивный.\n",
    "Английские предложений из отзывов о фильмах, например, из Stanford Sentiment Treebank (из датасета взяты только целые предложения; 5-уровневая разметка приведена к трехуровневой – негативный, нейтральный, позитивный). Вы можете использовать подход на основе словаря тонально окрашенных слов (например, SentiWords) или обучить классификатор на тренировочных данных. Вы можете использовать тренировочные данные и в первом случае – чтобы подобрать пороги для классификации предложений на основе весов словаря. \n",
    "Постройте матрицу ошибок (confusion matrix) на тестовом наборе. Оцените правильность (accuracy, доля правильно классифицированных предложений) классификатора на тестовом наборе. Проанализируйте неверно классифицированные предложения, сделайте предположения о причинах неверной классификации, предложите улучшения.\n"
   ]
  },
  {
   "cell_type": "code",
   "execution_count": 1,
   "id": "9e274460-b43e-42cb-98db-36a94aab6b51",
   "metadata": {
    "tags": []
   },
   "outputs": [],
   "source": [
    "import pandas as pd\n",
    "from sklearn.feature_extraction.text import TfidfVectorizer\n",
    "from sklearn.linear_model import LogisticRegression\n"
   ]
  },
  {
   "cell_type": "code",
   "execution_count": 10,
   "id": "58592c1a-0324-4eb9-b8ab-0f59c0673cdb",
   "metadata": {
    "tags": []
   },
   "outputs": [],
   "source": [
    "def load_data(filename):\n",
    "    data = pd.read_txt(filename, sep=\"\\t\", names=[\"sentence\", \"sentiment\"])\n",
    "    return data"
   ]
  },
  {
   "cell_type": "code",
   "execution_count": 11,
   "id": "842a0081-4c78-4188-8559-67aaf3d03322",
   "metadata": {
    "tags": []
   },
   "outputs": [],
   "source": [
    "def get_sentiment_labels(sentiments):\n",
    "    labels = []\n",
    "    for sentiment in sentiments:\n",
    "        if sentiment == \"positive\":\n",
    "            labels.append(1)\n",
    "        elif sentiment == \"negative\":\n",
    "            labels.append(-1)\n",
    "        else:\n",
    "            labels.append(0)\n",
    "    return labels\n"
   ]
  },
  {
   "cell_type": "code",
   "execution_count": 12,
   "id": "ae5b3e5a-dace-4857-8667-2715b408df06",
   "metadata": {
    "tags": []
   },
   "outputs": [],
   "source": [
    "\n",
    "def train_model(data):\n",
    "    sentences = data[\"sentence\"].tolist()\n",
    "    labels = get_sentiment_labels(data[\"sentiment\"].tolist())\n",
    "\n",
    "    vectorizer = TfidfVectorizer()\n",
    "    features = vectorizer.fit_transform(sentences)\n",
    "\n",
    "    model = LogisticRegression()\n",
    "    model.fit(features, labels)\n",
    "\n",
    "    return model"
   ]
  },
  {
   "cell_type": "code",
   "execution_count": 13,
   "id": "aec1c76e-b2b1-4eb8-9325-694bd977b9e3",
   "metadata": {
    "tags": []
   },
   "outputs": [],
   "source": [
    "def test_model(model, data):\n",
    "    sentences = data[\"sentence\"].tolist()\n",
    "    labels = get_sentiment_labels(data[\"sentiment\"].tolist())\n",
    "\n",
    "    features = vectorizer.transform(sentences)\n",
    "    predictions = model.predict(features)\n",
    "\n",
    "    confusion_matrix = pd.crosstab(labels, predictions, rownames=[\"True\"], colnames=[\"Predicted\"])\n",
    "    print(confusion_matrix)\n",
    "\n",
    "    return accuracy_score(labels, predictions)"
   ]
  },
  {
   "cell_type": "code",
   "execution_count": 16,
   "id": "83a26d5e",
   "metadata": {
    "tags": []
   },
   "outputs": [
    {
     "ename": "AttributeError",
     "evalue": "module 'pandas' has no attribute 'read_txt'",
     "output_type": "error",
     "traceback": [
      "\u001b[0;31m---------------------------------------------------------------------------\u001b[0m",
      "\u001b[0;31mAttributeError\u001b[0m                            Traceback (most recent call last)",
      "Cell \u001b[0;32mIn[16], line 2\u001b[0m\n\u001b[1;32m      1\u001b[0m \u001b[38;5;28;01mif\u001b[39;00m \u001b[38;5;18m__name__\u001b[39m \u001b[38;5;241m==\u001b[39m \u001b[38;5;124m\"\u001b[39m\u001b[38;5;124m__main__\u001b[39m\u001b[38;5;124m\"\u001b[39m:\n\u001b[0;32m----> 2\u001b[0m     data \u001b[38;5;241m=\u001b[39m load_data(\u001b[38;5;124m\"\u001b[39m\u001b[38;5;124marticle1.txt\u001b[39m\u001b[38;5;124m\"\u001b[39m)\n\u001b[1;32m      3\u001b[0m     model \u001b[38;5;241m=\u001b[39m train_model(data)\n\u001b[1;32m      4\u001b[0m     accuracy \u001b[38;5;241m=\u001b[39m test_model(model, data)\n",
      "Cell \u001b[0;32mIn[10], line 2\u001b[0m, in \u001b[0;36mload_data\u001b[0;34m(filename)\u001b[0m\n\u001b[1;32m      1\u001b[0m \u001b[38;5;28;01mdef\u001b[39;00m \u001b[38;5;21mload_data\u001b[39m(filename):\n\u001b[0;32m----> 2\u001b[0m     data \u001b[38;5;241m=\u001b[39m pd\u001b[38;5;241m.\u001b[39mread_txt(filename, sep\u001b[38;5;241m=\u001b[39m\u001b[38;5;124m\"\u001b[39m\u001b[38;5;130;01m\\t\u001b[39;00m\u001b[38;5;124m\"\u001b[39m, names\u001b[38;5;241m=\u001b[39m[\u001b[38;5;124m\"\u001b[39m\u001b[38;5;124msentence\u001b[39m\u001b[38;5;124m\"\u001b[39m, \u001b[38;5;124m\"\u001b[39m\u001b[38;5;124msentiment\u001b[39m\u001b[38;5;124m\"\u001b[39m])\n\u001b[1;32m      3\u001b[0m     \u001b[38;5;28;01mreturn\u001b[39;00m data\n",
      "File \u001b[0;32m~/anaconda3/lib/python3.11/site-packages/pandas/__init__.py:264\u001b[0m, in \u001b[0;36m__getattr__\u001b[0;34m(name)\u001b[0m\n\u001b[1;32m    260\u001b[0m     \u001b[38;5;28;01mfrom\u001b[39;00m \u001b[38;5;21;01mpandas\u001b[39;00m\u001b[38;5;21;01m.\u001b[39;00m\u001b[38;5;21;01mcore\u001b[39;00m\u001b[38;5;21;01m.\u001b[39;00m\u001b[38;5;21;01marrays\u001b[39;00m\u001b[38;5;21;01m.\u001b[39;00m\u001b[38;5;21;01msparse\u001b[39;00m \u001b[38;5;28;01mimport\u001b[39;00m SparseArray \u001b[38;5;28;01mas\u001b[39;00m _SparseArray\n\u001b[1;32m    262\u001b[0m     \u001b[38;5;28;01mreturn\u001b[39;00m _SparseArray\n\u001b[0;32m--> 264\u001b[0m \u001b[38;5;28;01mraise\u001b[39;00m \u001b[38;5;167;01mAttributeError\u001b[39;00m(\u001b[38;5;124mf\u001b[39m\u001b[38;5;124m\"\u001b[39m\u001b[38;5;124mmodule \u001b[39m\u001b[38;5;124m'\u001b[39m\u001b[38;5;124mpandas\u001b[39m\u001b[38;5;124m'\u001b[39m\u001b[38;5;124m has no attribute \u001b[39m\u001b[38;5;124m'\u001b[39m\u001b[38;5;132;01m{\u001b[39;00mname\u001b[38;5;132;01m}\u001b[39;00m\u001b[38;5;124m'\u001b[39m\u001b[38;5;124m\"\u001b[39m)\n",
      "\u001b[0;31mAttributeError\u001b[0m: module 'pandas' has no attribute 'read_txt'"
     ]
    }
   ],
   "source": [
    "if __name__ == \"__main__\":\n",
    "    data = load_data(\"article1.txt\")\n",
    "    model = train_model(data)\n",
    "    accuracy = test_model(model, data)\n",
    "    print(f\"Accuracy: {accuracy}\")\n"
   ]
  },
  {
   "cell_type": "raw",
   "id": "da17f7ed-b028-434a-9a9a-2f88aa8d0a0a",
   "metadata": {},
   "source": [
    "Задание 2 (25 б) \n",
    "Разработка и тестирование метода автоматического реферирования.\n",
    "\n",
    "Вход: 5 текстовых документов.\n",
    "Вывод: Exstract из всех документов по 3 предложения из каждого. В более сложном варианте Abstract.\n",
    "По 5 документам на входе нужно составить краткий и беглый реферат, содержащий самую важную информацию из входных документов. В этом определении \"краткий\" означает, что рефераты должны быть меньше входных документов, \"беглый\" означает, что они должны быть грамматически корректными и связными. \"Важность\" информации определяется из контекста и предметной области.\n"
   ]
  },
  {
   "cell_type": "code",
   "execution_count": null,
   "id": "35bdffcb-b137-42ab-acbb-6ec938257709",
   "metadata": {},
   "outputs": [],
   "source": []
  }
 ],
 "metadata": {
  "kernelspec": {
   "display_name": "Python 3 (ipykernel)",
   "language": "python",
   "name": "python3"
  },
  "language_info": {
   "codemirror_mode": {
    "name": "ipython",
    "version": 3
   },
   "file_extension": ".py",
   "mimetype": "text/x-python",
   "name": "python",
   "nbconvert_exporter": "python",
   "pygments_lexer": "ipython3",
   "version": "3.11.4"
  }
 },
 "nbformat": 4,
 "nbformat_minor": 5
}
